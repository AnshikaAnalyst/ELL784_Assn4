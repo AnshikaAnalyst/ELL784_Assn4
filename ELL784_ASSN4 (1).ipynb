{
 "cells": [
  {
   "cell_type": "code",
   "execution_count": 1,
   "id": "47149f50",
   "metadata": {},
   "outputs": [
    {
     "name": "stderr",
     "output_type": "stream",
     "text": [
      "C:\\Users\\garga\\anaconda3\\lib\\site-packages\\keras\\backend.py:451: UserWarning: `tf.keras.backend.set_learning_phase` is deprecated and will be removed after 2020-10-11. To update it, simply pass a True/False value to the `training` argument of the `__call__` method of your layer or model.\n",
      "  warnings.warn(\n"
     ]
    }
   ],
   "source": [
    "# coding: utf-8\n",
    "\n",
    "\n",
    "# Training 2-hidden layer DNN with 60000 samples as Benchmark\n",
    "# Activation:relu, Optimizer:rmsprop, nodes: 512/layer, drop out rate: 0.2\n",
    "import numpy as np\n",
    "import pandas as pd\n",
    "import matplotlib.pyplot as plt\n",
    "from keras.datasets import mnist\n",
    "from keras.models import Sequential\n",
    "from keras.layers.core import Dense, Dropout, Activation, RepeatVector\n",
    "from keras.utils import np_utils\n",
    "from sklearn.model_selection  import train_test_split\n",
    "import keras.backend as K\n",
    "K.set_learning_phase(1)"
   ]
  },
  {
   "cell_type": "code",
   "execution_count": 2,
   "id": "a5f6bb42",
   "metadata": {},
   "outputs": [
    {
     "name": "stdout",
     "output_type": "stream",
     "text": [
      "Training matrix shape (2400, 784)\n",
      "Testing matrix shape (600, 784)\n"
     ]
    }
   ],
   "source": [
    "nb_classes = 10\n",
    "\n",
    "df=pd.read_csv(r'C:\\Users\\garga\\3D Objects\\ELL784 Assn\\Assn4\\all.csv',header=None)\n",
    "data_shuffled=df.sample(frac=1).reset_index(drop=True)\n",
    "features_df=data_shuffled.iloc[:,0:-1]\n",
    "labels_df=data_shuffled.iloc[:,-1]\n",
    "\n",
    "# the data, shuffled and split between tran and test sets\n",
    "X_train_orgin, Y_train_orgin, X_test_orgin, Y_test_orgin = features_df.iloc[:2400,:],labels_df[:2400],features_df.iloc[2400:,:], labels_df[2400:]\n",
    "\n",
    "X_train = X_train_orgin.astype('float32')\n",
    "X_test = X_test_orgin.astype('float32')\n",
    "X_train /= 255\n",
    "X_test /= 255\n",
    "print(\"Training matrix shape\", X_train.shape)\n",
    "print(\"Testing matrix shape\", X_test.shape)\n",
    "\n",
    "Y_train = np_utils.to_categorical(Y_train_orgin, nb_classes)\n",
    "Y_test = np_utils.to_categorical(Y_test_orgin, nb_classes)"
   ]
  },
  {
   "cell_type": "code",
   "execution_count": 3,
   "id": "12571d32",
   "metadata": {},
   "outputs": [
    {
     "data": {
      "text/plain": [
       "(2400,)"
      ]
     },
     "execution_count": 3,
     "metadata": {},
     "output_type": "execute_result"
    }
   ],
   "source": [
    "Y_train_orgin.shape"
   ]
  },
  {
   "cell_type": "code",
   "execution_count": 4,
   "id": "65157f70",
   "metadata": {},
   "outputs": [
    {
     "data": {
      "text/plain": [
       "(2400, 10)"
      ]
     },
     "execution_count": 4,
     "metadata": {},
     "output_type": "execute_result"
    }
   ],
   "source": [
    "Y_train.shape"
   ]
  },
  {
   "cell_type": "code",
   "execution_count": 5,
   "id": "4f993f30",
   "metadata": {},
   "outputs": [
    {
     "data": {
      "text/plain": [
       "(600, 10)"
      ]
     },
     "execution_count": 5,
     "metadata": {},
     "output_type": "execute_result"
    }
   ],
   "source": [
    "Y_test.shape"
   ]
  },
  {
   "cell_type": "code",
   "execution_count": 6,
   "id": "d92461e0",
   "metadata": {},
   "outputs": [
    {
     "data": {
      "text/plain": [
       "(600, 784)"
      ]
     },
     "execution_count": 6,
     "metadata": {},
     "output_type": "execute_result"
    }
   ],
   "source": [
    "X_test.shape"
   ]
  },
  {
   "cell_type": "code",
   "execution_count": 7,
   "id": "3f1f2195",
   "metadata": {},
   "outputs": [],
   "source": [
    "Y_test_orgin=np.array(Y_test_orgin).reshape(600,1)"
   ]
  },
  {
   "cell_type": "code",
   "execution_count": null,
   "id": "667b6370",
   "metadata": {},
   "outputs": [],
   "source": []
  },
  {
   "cell_type": "code",
   "execution_count": 8,
   "id": "bea6e826",
   "metadata": {},
   "outputs": [
    {
     "name": "stdout",
     "output_type": "stream",
     "text": [
      "Epoch 1/15\n",
      "10/10 [==============================] - 1s 12ms/step - loss: 1.5509 - accuracy: 0.5654\n",
      "Epoch 2/15\n",
      "10/10 [==============================] - 0s 11ms/step - loss: 0.5697 - accuracy: 0.8346\n",
      "Epoch 3/15\n",
      "10/10 [==============================] - 0s 11ms/step - loss: 0.4101 - accuracy: 0.8800\n",
      "Epoch 4/15\n",
      "10/10 [==============================] - 0s 11ms/step - loss: 0.3115 - accuracy: 0.9000\n",
      "Epoch 5/15\n",
      "10/10 [==============================] - 0s 10ms/step - loss: 0.2510 - accuracy: 0.9250\n",
      "Epoch 6/15\n",
      "10/10 [==============================] - 0s 11ms/step - loss: 0.1951 - accuracy: 0.9521\n",
      "Epoch 7/15\n",
      "10/10 [==============================] - 0s 11ms/step - loss: 0.1516 - accuracy: 0.9588\n",
      "Epoch 8/15\n",
      "10/10 [==============================] - 0s 12ms/step - loss: 0.1180 - accuracy: 0.9717\n",
      "Epoch 9/15\n",
      "10/10 [==============================] - 0s 11ms/step - loss: 0.1012 - accuracy: 0.9750\n",
      "Epoch 10/15\n",
      "10/10 [==============================] - 0s 11ms/step - loss: 0.0833 - accuracy: 0.9758\n",
      "Epoch 11/15\n",
      "10/10 [==============================] - 0s 11ms/step - loss: 0.0654 - accuracy: 0.9862\n",
      "Epoch 12/15\n",
      "10/10 [==============================] - 0s 10ms/step - loss: 0.0501 - accuracy: 0.9896\n",
      "Epoch 13/15\n",
      "10/10 [==============================] - 0s 11ms/step - loss: 0.0482 - accuracy: 0.9900\n",
      "Epoch 14/15\n",
      "10/10 [==============================] - 0s 11ms/step - loss: 0.0363 - accuracy: 0.9937\n",
      "Epoch 15/15\n",
      "10/10 [==============================] - 0s 11ms/step - loss: 0.0302 - accuracy: 0.9954\n",
      "Test score: 0.9183333516120911\n"
     ]
    }
   ],
   "source": [
    "model = Sequential()\n",
    "#Y_test=Y_test_orgin\n",
    "\n",
    "#Hidden layer 1\n",
    "model.add(Dense(512, input_shape=(784,)))\n",
    "hidden_layer = Activation('relu')\n",
    "model.add(hidden_layer) \n",
    "model.add(Dropout(0.2))  # Dropout helps prevent \"overfitting\" the training data\n",
    "\n",
    "#Hidden layer 2\n",
    "model.add(Dense(512))\n",
    "hidden_layer_2 = (Activation('relu'))\n",
    "model.add(hidden_layer_2)\n",
    "model.add(Dropout(0.2))\n",
    "\n",
    "#Output Layer\n",
    "model.add(Dense(10))\n",
    "model.add(Activation('softmax')) \n",
    "\n",
    "#Compile model\n",
    "model.compile(loss='categorical_crossentropy',optimizer='adam',metrics=['accuracy'])\n",
    "model.fit(X_train,Y_train, batch_size=256, epochs =15,verbose=1)\n",
    "\n",
    "#Evaluate the model on testing set\n",
    "score= model.evaluate(X_test,Y_test,verbose=0)\n",
    "print('Test score:', score[1])"
   ]
  },
  {
   "cell_type": "code",
   "execution_count": 9,
   "id": "f3274aef",
   "metadata": {},
   "outputs": [
    {
     "name": "stdout",
     "output_type": "stream",
     "text": [
      "Epoch 1/15\n",
      "1/1 [==============================] - 1s 519ms/step - loss: 2.3822 - accuracy: 0.1292\n",
      "Epoch 2/15\n",
      "1/1 [==============================] - 0s 16ms/step - loss: 2.3043 - accuracy: 0.3458\n",
      "Epoch 3/15\n",
      "1/1 [==============================] - 0s 18ms/step - loss: 1.8585 - accuracy: 0.5250\n",
      "Epoch 4/15\n",
      "1/1 [==============================] - 0s 17ms/step - loss: 1.5723 - accuracy: 0.6125\n",
      "Epoch 5/15\n",
      "1/1 [==============================] - 0s 19ms/step - loss: 0.6737 - accuracy: 0.7958\n",
      "Epoch 6/15\n",
      "1/1 [==============================] - 0s 19ms/step - loss: 0.4717 - accuracy: 0.9125\n",
      "Epoch 7/15\n",
      "1/1 [==============================] - 0s 17ms/step - loss: 0.4017 - accuracy: 0.9375\n",
      "Epoch 8/15\n",
      "1/1 [==============================] - 0s 18ms/step - loss: 0.3760 - accuracy: 0.9333\n",
      "Epoch 9/15\n",
      "1/1 [==============================] - 0s 19ms/step - loss: 0.3245 - accuracy: 0.9625\n",
      "Epoch 10/15\n",
      "1/1 [==============================] - 0s 17ms/step - loss: 0.3084 - accuracy: 0.9500\n",
      "Epoch 11/15\n",
      "1/1 [==============================] - 0s 18ms/step - loss: 0.2701 - accuracy: 0.9708\n",
      "Epoch 12/15\n",
      "1/1 [==============================] - 0s 19ms/step - loss: 0.2483 - accuracy: 0.9583\n",
      "Epoch 13/15\n",
      "1/1 [==============================] - 0s 15ms/step - loss: 0.2035 - accuracy: 0.9958\n",
      "Epoch 14/15\n",
      "1/1 [==============================] - 0s 15ms/step - loss: 0.1815 - accuracy: 0.9792\n",
      "Epoch 15/15\n",
      "1/1 [==============================] - 0s 17ms/step - loss: 0.1566 - accuracy: 0.9958\n",
      "19/19 [==============================] - 0s 3ms/step - loss: 0.6604 - accuracy: 0.8100\n",
      "Test score: 0.8100000023841858\n",
      "FOM:  0.2399999976158142\n"
     ]
    }
   ],
   "source": [
    "# In[64]:\n",
    "\n",
    "# Build DNN model using only 6000 samples FOM:0.0465\n",
    "# Activation:relu, Optimizer:rmsprop, nodes: 512/layer, drop out rate: 0.1\n",
    "\n",
    "# Build a subset with only 6000 samples\n",
    "X_train_subset, X_train_rest, Y_train_subset, Y_train_rest = train_test_split(X_train, Y_train, test_size=0.90, random_state=1)\n",
    "\n",
    "model2 = Sequential()\n",
    "\n",
    "#Hidden layer 1\n",
    "model2.add(Dense(512, input_shape=(784,)))\n",
    "model2.add(Activation('tanh')) \n",
    "model2.add(Dropout(0.1))\n",
    "\n",
    "#Hidden layer 2\n",
    "model2.add(Dense(512))\n",
    "model2.add(Activation('tanh'))\n",
    "model2.add(Dropout(0.1))\n",
    "\n",
    "#Output layer\n",
    "model2.add(Dense(10))\n",
    "model2.add(Activation('softmax')) \n",
    "\n",
    "#Compile model\n",
    "model2.compile(loss='categorical_crossentropy',optimizer='rmsprop',metrics=['accuracy'])\n",
    "model2.fit(X_train_subset, Y_train_subset, batch_size=256, epochs=15,verbose=1)\n",
    "\n",
    "#Calculate the FOM\n",
    "score = model2.evaluate(X_test, Y_test)\n",
    "fom = len(X_train_subset)/(len(X_train)*2) + (1 - (score[1]))\n",
    "print ('Test score:', score[1])\n",
    "print ('FOM: ', fom )"
   ]
  },
  {
   "cell_type": "markdown",
   "id": "f9d9c4af",
   "metadata": {},
   "source": [
    "## 1.1 Using all 784 feature to get the clustering with number of cluster 10"
   ]
  },
  {
   "cell_type": "code",
   "execution_count": 10,
   "id": "fad52d94",
   "metadata": {},
   "outputs": [
    {
     "name": "stdout",
     "output_type": "stream",
     "text": [
      "digit:  0  accuracy:  0.5021097046413502\n",
      "digit:  1  accuracy:  0.9836065573770492\n",
      "digit:  2  accuracy:  0.7013574660633484\n",
      "digit:  3  accuracy:  0.6390041493775933\n",
      "digit:  4  accuracy:  0.576271186440678\n",
      "digit:  5  accuracy:  0.3601694915254237\n",
      "digit:  6  accuracy:  0.8054474708171206\n",
      "digit:  7  accuracy:  0.5\n",
      "digit:  8  accuracy:  0.5975609756097561\n",
      "digit:  9  accuracy:  0.4875\n",
      "overall accuracy:  0.6170833333333333\n"
     ]
    }
   ],
   "source": [
    "# In[2]:\n",
    "\n",
    "# K-means Clustering on trainingset with 60000 samples\n",
    "import pandas as pd\n",
    "from sklearn.decomposition import PCA\n",
    "from sklearn.cluster import KMeans\n",
    "from sklearn.model_selection  import train_test_split\n",
    "\n",
    "#Setting the trainingset\n",
    "X_km_train = X_train\n",
    "Y_km_train = Y_train_orgin\n",
    "\n",
    "#Using PCA to speed up and improve accuracy\n",
    "#pca = PCA(n_components=10).fit(X_km_train)\n",
    "\n",
    "#Construct the Kmeans model\n",
    "km = KMeans( n_clusters=10, n_init=1)\n",
    "km.fit(X_km_train)\n",
    "\n",
    "#Determining each cluster represents what digit\n",
    "validation = pd.DataFrame(X_km_train)\n",
    "validation['actual'] = Y_km_train\n",
    "validation['predict'] = km.labels_\n",
    "\n",
    "from collections import Counter\n",
    "i = 0\n",
    "p = 0\n",
    "q = 0\n",
    "matrix = pd.DataFrame()\n",
    "while i < 10:\n",
    "    count = 0\n",
    "    num_actual = 0\n",
    "    numlist = []\n",
    "    for index, row in validation.iterrows():\n",
    "        if row['actual'] == i:\n",
    "            num_actual = num_actual + 1 \n",
    "            numlist.append(row['predict'])\n",
    "    label = int(Counter(numlist).most_common()[0][0])\n",
    "    line = pd.Series([i, label])\n",
    "    matrix = matrix.append(line,ignore_index=True)\n",
    "    i = i + 1\n",
    "\n",
    "#Validating the model\n",
    "for index, row in matrix.iterrows():\n",
    "    digit = index\n",
    "    label = int(row[1])\n",
    "    n = 0\n",
    "    m = 0\n",
    "    for index,row in validation.iterrows():\n",
    "        if row['actual'] == digit:    \n",
    "            m += 1\n",
    "            if row['predict'] == label:\n",
    "                n += 1\n",
    "    p = p + n\n",
    "    q = q + m\n",
    "    accuracy = float(n)/m\n",
    "    print( \"digit: \", digit, \" accuracy: \", accuracy)\n",
    "accuracy_all = float(p)/q\n",
    "print ('overall accuracy: ', accuracy_all)"
   ]
  },
  {
   "cell_type": "markdown",
   "id": "28613d13",
   "metadata": {},
   "source": [
    "#### We can see that digit 1 has the highest accuracy among all digits which means digit 1 has very low misclassification rate. Digit 5 and Digit 9 misclassified a lot. We got a overall accuracy of 61%"
   ]
  },
  {
   "cell_type": "code",
   "execution_count": 11,
   "id": "452a9106",
   "metadata": {},
   "outputs": [
    {
     "data": {
      "image/png": "[encoded data removed]",
      "text/plain": [
       "<Figure size 432x288 with 1 Axes>"
      ]
     },
     "metadata": {},
     "output_type": "display_data"
    }
   ],
   "source": [
    "# In[79]:\n",
    "\n",
    "#Visualization for clusters (Copied from Github)\n",
    "reduced_data = PCA(n_components=2).fit_transform(X_km_train)\n",
    "kmeans = KMeans(init='k-means++', n_clusters=10, n_init=10)\n",
    "kmeans.fit(reduced_data)\n",
    "\n",
    "# Step size of the mesh. Decrease to increase the quality of the VQ.\n",
    "h = .02     # point in the mesh [x_min, x_max]x[y_min, y_max].\n",
    "\n",
    "# Plot the decision boundary. For that, we will assign a color to each\n",
    "x_min, x_max = reduced_data[:, 0].min() - 1, reduced_data[:, 0].max() + 1\n",
    "y_min, y_max = reduced_data[:, 1].min() - 1, reduced_data[:, 1].max() + 1\n",
    "xx, yy = np.meshgrid(np.arange(x_min, x_max, h), np.arange(y_min, y_max, h))\n",
    "\n",
    "# Obtain labels for each point in mesh. Use last trained model.\n",
    "Z = kmeans.predict(np.c_[xx.ravel(), yy.ravel()])\n",
    "\n",
    "# Put the result into a color plot\n",
    "Z = Z.reshape(xx.shape)\n",
    "plt.figure(1)\n",
    "plt.clf()\n",
    "plt.imshow(Z, interpolation='nearest',\n",
    "           extent=(xx.min(), xx.max(), yy.min(), yy.max()),\n",
    "           cmap=plt.cm.Paired,\n",
    "           aspect='auto', origin='lower')\n",
    "\n",
    "plt.plot(reduced_data[:, 0], reduced_data[:, 1], 'k.', markersize=2)\n",
    "# Plot the centroids as a white X\n",
    "centroids = kmeans.cluster_centers_\n",
    "plt.scatter(centroids[:, 0], centroids[:, 1],\n",
    "            marker='x', s=169, linewidths=3,\n",
    "            color='w', zorder=10)\n",
    "plt.title('K-means clustering on the digits dataset (PCA-reduced data)\\n'\n",
    "          'Centroids are marked with white cross')\n",
    "plt.xlim(x_min, x_max)\n",
    "plt.ylim(y_min, y_max)\n",
    "plt.xticks(())\n",
    "plt.yticks(())\n",
    "plt.show()"
   ]
  },
  {
   "cell_type": "markdown",
   "id": "cc3590f1",
   "metadata": {},
   "source": [
    "#### For visualization it is important to visualise data using two top feature only. Using principal component analysis top two features are extracted and then centroids are observed.\n",
    "#### Do we get good clustering? My answer is no as from the data we have not very much defined cluster. It contains lot of noise, which is being get captured by k-means algorithm. For this dataset we can try advanced clustering method like DBSCAN algorithm."
   ]
  },
  {
   "cell_type": "markdown",
   "id": "b652ff02",
   "metadata": {},
   "source": [
    "## 1.2 Using all 784 features and number of cluster 5"
   ]
  },
  {
   "cell_type": "code",
   "execution_count": 12,
   "id": "e86e0d31",
   "metadata": {},
   "outputs": [
    {
     "name": "stdout",
     "output_type": "stream",
     "text": [
      "digit:  0  accuracy:  0.9789029535864979\n",
      "digit:  1  accuracy:  0.9836065573770492\n",
      "digit:  2  accuracy:  0.7647058823529411\n",
      "digit:  3  accuracy:  0.8008298755186722\n",
      "digit:  4  accuracy:  0.8728813559322034\n",
      "digit:  5  accuracy:  0.673728813559322\n",
      "digit:  6  accuracy:  0.8287937743190662\n",
      "digit:  7  accuracy:  0.9545454545454546\n",
      "digit:  8  accuracy:  0.5894308943089431\n",
      "digit:  9  accuracy:  0.9958333333333333\n",
      "overall accuracy:  0.8445833333333334\n"
     ]
    }
   ],
   "source": [
    "# In[2]:\n",
    "\n",
    "# K-means Clustering on trainingset with 60000 samples\n",
    "import pandas as pd\n",
    "from sklearn.decomposition import PCA\n",
    "from sklearn.cluster import KMeans\n",
    "from sklearn.model_selection  import train_test_split\n",
    "\n",
    "#Setting the trainingset\n",
    "X_km_train = X_train\n",
    "Y_km_train = Y_train_orgin\n",
    "\n",
    "#Using PCA to speed up and improve accuracy\n",
    "#pca = PCA(n_components=10).fit(X_km_train)\n",
    "\n",
    "#Construct the Kmeans model\n",
    "km = KMeans( n_clusters=5, n_init=1)\n",
    "km.fit(X_km_train)\n",
    "\n",
    "#Determining each cluster represents what digit\n",
    "validation = pd.DataFrame(X_km_train)\n",
    "validation['actual'] = Y_km_train\n",
    "validation['predict'] = km.labels_\n",
    "\n",
    "from collections import Counter\n",
    "i = 0\n",
    "p = 0\n",
    "q = 0\n",
    "matrix = pd.DataFrame()\n",
    "while i < 10:\n",
    "    count = 0\n",
    "    num_actual = 0\n",
    "    numlist = []\n",
    "    for index, row in validation.iterrows():\n",
    "        if row['actual'] == i:\n",
    "            num_actual = num_actual + 1 \n",
    "            numlist.append(row['predict'])\n",
    "    label = int(Counter(numlist).most_common()[0][0])\n",
    "    line = pd.Series([i, label])\n",
    "    matrix = matrix.append(line,ignore_index=True)\n",
    "    i = i + 1\n",
    "\n",
    "#Validating the model\n",
    "for index, row in matrix.iterrows():\n",
    "    digit = index\n",
    "    label = int(row[1])\n",
    "    n = 0\n",
    "    m = 0\n",
    "    for index,row in validation.iterrows():\n",
    "        if row['actual'] == digit:    \n",
    "            m += 1\n",
    "            if row['predict'] == label:\n",
    "                n += 1\n",
    "    p = p + n\n",
    "    q = q + m\n",
    "    accuracy = float(n)/m\n",
    "    print( \"digit: \", digit, \" accuracy: \", accuracy)\n",
    "accuracy_all = float(p)/q\n",
    "print ('overall accuracy: ', accuracy_all)"
   ]
  },
  {
   "cell_type": "code",
   "execution_count": 13,
   "id": "76a22be1",
   "metadata": {},
   "outputs": [
    {
     "data": {
      "image/png": "[encoded data removed]",
      "text/plain": [
       "<Figure size 432x288 with 1 Axes>"
      ]
     },
     "metadata": {},
     "output_type": "display_data"
    }
   ],
   "source": [
    "# In[79]:\n",
    "\n",
    "#Visualization for clusters (Copied from Github)\n",
    "reduced_data = PCA(n_components=2).fit_transform(X_km_train)\n",
    "kmeans = KMeans(init='k-means++', n_clusters=5, n_init=10)\n",
    "kmeans.fit(reduced_data)\n",
    "\n",
    "# Step size of the mesh. Decrease to increase the quality of the VQ.\n",
    "h = .02     # point in the mesh [x_min, x_max]x[y_min, y_max].\n",
    "\n",
    "# Plot the decision boundary. For that, we will assign a color to each\n",
    "x_min, x_max = reduced_data[:, 0].min() - 1, reduced_data[:, 0].max() + 1\n",
    "y_min, y_max = reduced_data[:, 1].min() - 1, reduced_data[:, 1].max() + 1\n",
    "xx, yy = np.meshgrid(np.arange(x_min, x_max, h), np.arange(y_min, y_max, h))\n",
    "\n",
    "# Obtain labels for each point in mesh. Use last trained model.\n",
    "Z = kmeans.predict(np.c_[xx.ravel(), yy.ravel()])\n",
    "\n",
    "# Put the result into a color plot\n",
    "Z = Z.reshape(xx.shape)\n",
    "plt.figure(1)\n",
    "plt.clf()\n",
    "plt.imshow(Z, interpolation='nearest',\n",
    "           extent=(xx.min(), xx.max(), yy.min(), yy.max()),\n",
    "           cmap=plt.cm.Paired,\n",
    "           aspect='auto', origin='lower')\n",
    "\n",
    "plt.plot(reduced_data[:, 0], reduced_data[:, 1], 'k.', markersize=2)\n",
    "# Plot the centroids as a white X\n",
    "centroids = kmeans.cluster_centers_\n",
    "plt.scatter(centroids[:, 0], centroids[:, 1],\n",
    "            marker='x', s=169, linewidths=3,\n",
    "            color='w', zorder=10)\n",
    "plt.title('K-means clustering on the digits dataset (PCA-reduced data)\\n'\n",
    "          'Centroids are marked with white cross')\n",
    "plt.xlim(x_min, x_max)\n",
    "plt.ylim(y_min, y_max)\n",
    "plt.xticks(())\n",
    "plt.yticks(())\n",
    "plt.show()"
   ]
  },
  {
   "cell_type": "markdown",
   "id": "c867dc93",
   "metadata": {},
   "source": [
    "######  Number of cluster 5 doesnt make any sense because we already know that number of class labels are 10. Also we can see that accuracy get increase from 61% to 84 % as number of cluster get reduced from 10 to 5. As per my interpretation, this doesnt make any sense."
   ]
  },
  {
   "cell_type": "markdown",
   "id": "0376a4f6",
   "metadata": {},
   "source": [
    "## 2.1 Using 25 features and number of cluster 10"
   ]
  },
  {
   "cell_type": "code",
   "execution_count": 14,
   "id": "735e43af",
   "metadata": {},
   "outputs": [
    {
     "name": "stdout",
     "output_type": "stream",
     "text": [
      "Training matrix shape (2400, 25)\n",
      "Testing matrix shape (600, 25)\n"
     ]
    }
   ],
   "source": [
    "nb_classes = 10\n",
    "\n",
    "df_25=pd.read_csv(r'C:\\Users\\garga\\3D Objects\\ELL784 Assn\\Assn2\\Part1\\feat_25.csv',header=None)\n",
    "data_shuffled_25=df_25.sample(frac=1).reset_index(drop=True)\n",
    "features_df_25=data_shuffled_25.iloc[:,0:-1]\n",
    "labels_df_25=data_shuffled_25.iloc[:,-1]\n",
    "\n",
    "# the data, shuffled and split between tran and test sets\n",
    "X_train_orgin_25, Y_train_orgin_25, X_test_orgin_25, Y_test_orgin_25 = features_df_25.iloc[:2400,:],labels_df_25[:2400],features_df_25.iloc[2400:,:], labels_df_25[2400:]\n",
    "\n",
    "X_train_25 = X_train_orgin_25.astype('float32')\n",
    "X_test_25 = X_test_orgin_25.astype('float32')\n",
    "print(\"Training matrix shape\", X_train_25.shape)\n",
    "print(\"Testing matrix shape\", X_test_25.shape)\n",
    "\n",
    "Y_train = np_utils.to_categorical(Y_train_orgin_25, nb_classes)\n",
    "Y_test = np_utils.to_categorical(Y_test_orgin_25, nb_classes)"
   ]
  },
  {
   "cell_type": "code",
   "execution_count": 16,
   "id": "90496df6",
   "metadata": {},
   "outputs": [
    {
     "name": "stdout",
     "output_type": "stream",
     "text": [
      "digit:  0  accuracy:  0.5125\n",
      "digit:  1  accuracy:  0.652542372881356\n",
      "digit:  2  accuracy:  0.4146341463414634\n",
      "digit:  3  accuracy:  0.5523012552301255\n",
      "digit:  4  accuracy:  0.4449152542372881\n",
      "digit:  5  accuracy:  0.2845528455284553\n",
      "digit:  6  accuracy:  0.6776859504132231\n",
      "digit:  7  accuracy:  0.5232067510548524\n",
      "digit:  8  accuracy:  0.5126050420168067\n",
      "digit:  9  accuracy:  0.44166666666666665\n",
      "overall accuracy:  0.5008333333333334\n"
     ]
    }
   ],
   "source": [
    "#Setting the trainingset\n",
    "X_km_train_25 = X_train_25\n",
    "Y_km_train_25 = Y_train_orgin_25\n",
    "\n",
    "#Using PCA to speed up and improve accuracy\n",
    "#pca = PCA(n_components=10).fit(X_km_train)\n",
    "\n",
    "#Construct the Kmeans model\n",
    "km = KMeans(n_clusters=10, n_init=1)\n",
    "km.fit(X_km_train_25)\n",
    "\n",
    "#Determining each cluster represents what digit\n",
    "validation = pd.DataFrame(X_km_train_25)\n",
    "validation['actual'] = Y_km_train_25\n",
    "validation['predict'] = km.labels_\n",
    "\n",
    "from collections import Counter\n",
    "i = 0\n",
    "p = 0\n",
    "q = 0\n",
    "matrix = pd.DataFrame()\n",
    "while i < 10:\n",
    "    count = 0\n",
    "    num_actual = 0\n",
    "    numlist = []\n",
    "    for index, row in validation.iterrows():\n",
    "        if row['actual'] == i:\n",
    "            num_actual = num_actual + 1 \n",
    "            numlist.append(row['predict'])\n",
    "    label = int(Counter(numlist).most_common()[0][0])\n",
    "    line = pd.Series([i, label])\n",
    "    matrix = matrix.append(line,ignore_index=True)\n",
    "    i = i + 1\n",
    "\n",
    "#Validating the model\n",
    "for index, row in matrix.iterrows():\n",
    "    digit = index\n",
    "    label = int(row[1])\n",
    "    n = 0\n",
    "    m = 0\n",
    "    for index,row in validation.iterrows():\n",
    "        if row['actual'] == digit:    \n",
    "            m += 1\n",
    "            if row['predict'] == label:\n",
    "                n += 1\n",
    "    p = p + n\n",
    "    q = q + m\n",
    "    accuracy = float(n)/m\n",
    "    print( \"digit: \", digit, \" accuracy: \", accuracy)\n",
    "accuracy_all = float(p)/q\n",
    "print ('overall accuracy: ', accuracy_all)"
   ]
  },
  {
   "cell_type": "code",
   "execution_count": 17,
   "id": "35a9f779",
   "metadata": {},
   "outputs": [
    {
     "data": {
      "image/png": "[encoded data removed]",
      "text/plain": [
       "<Figure size 432x288 with 1 Axes>"
      ]
     },
     "metadata": {},
     "output_type": "display_data"
    }
   ],
   "source": [
    "reduced_data = PCA(n_components=2).fit_transform(X_km_train_25)\n",
    "kmeans = KMeans(init='k-means++', n_clusters=10, n_init=10)\n",
    "kmeans.fit(reduced_data)\n",
    "\n",
    "# Step size of the mesh. Decrease to increase the quality of the VQ.\n",
    "h = .02     # point in the mesh [x_min, x_max]x[y_min, y_max].\n",
    "\n",
    "# Plot the decision boundary. For that, we will assign a color to each\n",
    "x_min, x_max = reduced_data[:, 0].min() - 1, reduced_data[:, 0].max() + 1\n",
    "y_min, y_max = reduced_data[:, 1].min() - 1, reduced_data[:, 1].max() + 1\n",
    "xx, yy = np.meshgrid(np.arange(x_min, x_max, h), np.arange(y_min, y_max, h))\n",
    "\n",
    "# Obtain labels for each point in mesh. Use last trained model.\n",
    "Z = kmeans.predict(np.c_[xx.ravel(), yy.ravel()])\n",
    "\n",
    "# Put the result into a color plot\n",
    "Z = Z.reshape(xx.shape)\n",
    "plt.figure(1)\n",
    "plt.clf()\n",
    "plt.imshow(Z, interpolation='nearest',\n",
    "           extent=(xx.min(), xx.max(), yy.min(), yy.max()),\n",
    "           cmap=plt.cm.Paired,\n",
    "           aspect='auto', origin='lower')\n",
    "\n",
    "plt.plot(reduced_data[:, 0], reduced_data[:, 1], 'k.', markersize=2)\n",
    "# Plot the centroids as a white X\n",
    "centroids = kmeans.cluster_centers_\n",
    "plt.scatter(centroids[:, 0], centroids[:, 1],\n",
    "            marker='x', s=169, linewidths=3,\n",
    "            color='w', zorder=10)\n",
    "plt.title('K-means clustering on the digits dataset (PCA-reduced data)\\n'\n",
    "          'Centroids are marked with white cross')\n",
    "plt.xlim(x_min, x_max)\n",
    "plt.ylim(y_min, y_max)\n",
    "plt.xticks(())\n",
    "plt.yticks(())\n",
    "plt.show()"
   ]
  },
  {
   "cell_type": "markdown",
   "id": "d2f7da4d",
   "metadata": {},
   "source": [
    "##### As the data becomes low dimensional it shows many clusters. For cluster value 10, we get a very poor accuracy of 50% only. May be as number of cluster get increased we get might get good accuracy there."
   ]
  },
  {
   "cell_type": "markdown",
   "id": "0ad1a782",
   "metadata": {},
   "source": [
    "### 2.2 Using 25 feature and number of cluster 5"
   ]
  },
  {
   "cell_type": "code",
   "execution_count": 18,
   "id": "aafe5db5",
   "metadata": {},
   "outputs": [
    {
     "name": "stdout",
     "output_type": "stream",
     "text": [
      "digit:  0  accuracy:  0.9166666666666666\n",
      "digit:  1  accuracy:  0.6567796610169492\n",
      "digit:  2  accuracy:  0.8373983739837398\n",
      "digit:  3  accuracy:  0.698744769874477\n",
      "digit:  4  accuracy:  0.8432203389830508\n",
      "digit:  5  accuracy:  0.5121951219512195\n",
      "digit:  6  accuracy:  0.9710743801652892\n",
      "digit:  7  accuracy:  0.9873417721518988\n",
      "digit:  8  accuracy:  0.7058823529411765\n",
      "digit:  9  accuracy:  0.9541666666666667\n",
      "overall accuracy:  0.8079166666666666\n"
     ]
    }
   ],
   "source": [
    "X_km_train_25 = X_train_25\n",
    "Y_km_train_25 = Y_train_orgin_25\n",
    "\n",
    "#Using PCA to speed up and improve accuracy\n",
    "#pca = PCA(n_components=10).fit(X_km_train)\n",
    "\n",
    "#Construct the Kmeans model\n",
    "km = KMeans(n_clusters=5, n_init=1)\n",
    "km.fit(X_km_train_25)\n",
    "\n",
    "#Determining each cluster represents what digit\n",
    "validation = pd.DataFrame(X_km_train_25)\n",
    "validation['actual'] = Y_km_train_25\n",
    "validation['predict'] = km.labels_\n",
    "\n",
    "from collections import Counter\n",
    "i = 0\n",
    "p = 0\n",
    "q = 0\n",
    "matrix = pd.DataFrame()\n",
    "while i < 10:\n",
    "    count = 0\n",
    "    num_actual = 0\n",
    "    numlist = []\n",
    "    for index, row in validation.iterrows():\n",
    "        if row['actual'] == i:\n",
    "            num_actual = num_actual + 1 \n",
    "            numlist.append(row['predict'])\n",
    "    label = int(Counter(numlist).most_common()[0][0])\n",
    "    line = pd.Series([i, label])\n",
    "    matrix = matrix.append(line,ignore_index=True)\n",
    "    i = i + 1\n",
    "\n",
    "#Validating the model\n",
    "for index, row in matrix.iterrows():\n",
    "    digit = index\n",
    "    label = int(row[1])\n",
    "    n = 0\n",
    "    m = 0\n",
    "    for index,row in validation.iterrows():\n",
    "        if row['actual'] == digit:    \n",
    "            m += 1\n",
    "            if row['predict'] == label:\n",
    "                n += 1\n",
    "    p = p + n\n",
    "    q = q + m\n",
    "    accuracy = float(n)/m\n",
    "    print( \"digit: \", digit, \" accuracy: \", accuracy)\n",
    "accuracy_all = float(p)/q\n",
    "print ('overall accuracy: ', accuracy_all)"
   ]
  },
  {
   "cell_type": "code",
   "execution_count": 23,
   "id": "219f0537",
   "metadata": {},
   "outputs": [
    {
     "data": {
      "image/png": "[encoded data removed]",
      "text/plain": [
       "<Figure size 432x288 with 1 Axes>"
      ]
     },
     "metadata": {},
     "output_type": "display_data"
    }
   ],
   "source": [
    "reduced_data = PCA(n_components=2).fit_transform(X_km_train_25)\n",
    "kmeans = KMeans(init='k-means++', n_clusters=5, n_init=10)\n",
    "kmeans.fit(reduced_data)\n",
    "\n",
    "# Step size of the mesh. Decrease to increase the quality of the VQ.\n",
    "h = .02     # point in the mesh [x_min, x_max]x[y_min, y_max].\n",
    "\n",
    "# Plot the decision boundary. For that, we will assign a color to each\n",
    "x_min, x_max = reduced_data[:, 0].min() - 1, reduced_data[:, 0].max() + 1\n",
    "y_min, y_max = reduced_data[:, 1].min() - 1, reduced_data[:, 1].max() + 1\n",
    "xx, yy = np.meshgrid(np.arange(x_min, x_max, h), np.arange(y_min, y_max, h))\n",
    "\n",
    "# Obtain labels for each point in mesh. Use last trained model.\n",
    "Z = kmeans.predict(np.c_[xx.ravel(), yy.ravel()])\n",
    "\n",
    "# Put the result into a color plot\n",
    "Z = Z.reshape(xx.shape)\n",
    "plt.figure(1)\n",
    "plt.clf()\n",
    "plt.imshow(Z, interpolation='nearest',\n",
    "           extent=(xx.min(), xx.max(), yy.min(), yy.max()),\n",
    "           cmap=plt.cm.Paired,\n",
    "           aspect='auto', origin='lower')\n",
    "\n",
    "plt.plot(reduced_data[:, 0], reduced_data[:, 1], 'k.', markersize=2)\n",
    "# Plot the centroids as a white X\n",
    "centroids = kmeans.cluster_centers_\n",
    "plt.scatter(centroids[:, 0], centroids[:, 1],\n",
    "            marker='x', s=169, linewidths=3,\n",
    "            color='w', zorder=10)\n",
    "plt.title('K-means clustering on the digits dataset (PCA-reduced data)\\n'\n",
    "          'Centroids are marked with white cross')\n",
    "plt.xlim(x_min, x_max)\n",
    "plt.ylim(y_min, y_max)\n",
    "plt.xticks(())\n",
    "plt.yticks(())\n",
    "plt.show()"
   ]
  },
  {
   "cell_type": "markdown",
   "id": "4feddf00",
   "metadata": {},
   "source": [
    "#### Interpretation"
   ]
  },
  {
   "cell_type": "markdown",
   "id": "49a38f1e",
   "metadata": {},
   "source": [
    "### 3.1 Using 10 feature and number of cluster equals to 10"
   ]
  },
  {
   "cell_type": "code",
   "execution_count": 20,
   "id": "71773eff",
   "metadata": {},
   "outputs": [
    {
     "name": "stdout",
     "output_type": "stream",
     "text": [
      "digit:  0  accuracy:  0.4875\n",
      "digit:  1  accuracy:  0.9788135593220338\n",
      "digit:  2  accuracy:  0.6626016260162602\n",
      "digit:  3  accuracy:  0.5774058577405857\n",
      "digit:  4  accuracy:  0.923728813559322\n",
      "digit:  5  accuracy:  0.47560975609756095\n",
      "digit:  6  accuracy:  0.6198347107438017\n",
      "digit:  7  accuracy:  0.9367088607594937\n",
      "digit:  8  accuracy:  0.9831932773109243\n",
      "digit:  9  accuracy:  0.9791666666666666\n",
      "overall accuracy:  0.7604166666666666\n"
     ]
    }
   ],
   "source": [
    "#Setting the trainingset\n",
    "X_km_train_25 = X_train_25\n",
    "Y_km_train_25 = Y_train_orgin_25\n",
    "\n",
    "#Using PCA to speed up and improve accuracy\n",
    "pca = PCA(n_components=10).fit(X_km_train_25)\n",
    "\n",
    "#Construct the Kmeans model\n",
    "km = KMeans(n_clusters=10, n_init=1)\n",
    "km.fit(X_km_train_25)\n",
    "\n",
    "#Determining each cluster represents what digit\n",
    "validation = pd.DataFrame(X_km_train_25)\n",
    "validation['actual'] = Y_km_train_25\n",
    "validation['predict'] = km.labels_\n",
    "\n",
    "from collections import Counter\n",
    "i = 0\n",
    "p = 0\n",
    "q = 0\n",
    "matrix = pd.DataFrame()\n",
    "while i < 10:\n",
    "    count = 0\n",
    "    num_actual = 0\n",
    "    numlist = []\n",
    "    for index, row in validation.iterrows():\n",
    "        if row['actual'] == i:\n",
    "            num_actual = num_actual + 1 \n",
    "            numlist.append(row['predict'])\n",
    "    label = int(Counter(numlist).most_common()[0][0])\n",
    "    line = pd.Series([i, label])\n",
    "    matrix = matrix.append(line,ignore_index=True)\n",
    "    i = i + 1\n",
    "\n",
    "#Validating the model\n",
    "for index, row in matrix.iterrows():\n",
    "    digit = index\n",
    "    label = int(row[1])\n",
    "    n = 0\n",
    "    m = 0\n",
    "    for index,row in validation.iterrows():\n",
    "        if row['actual'] == digit:    \n",
    "            m += 1\n",
    "            if row['predict'] == label:\n",
    "                n += 1\n",
    "    p = p + n\n",
    "    q = q + m\n",
    "    accuracy = float(n)/m\n",
    "    print( \"digit: \", digit, \" accuracy: \", accuracy)\n",
    "accuracy_all = float(p)/q\n",
    "print ('overall accuracy: ', accuracy_all)"
   ]
  },
  {
   "cell_type": "code",
   "execution_count": 21,
   "id": "e16104bb",
   "metadata": {},
   "outputs": [
    {
     "data": {
      "image/png": "[encoded data removed]",
      "text/plain": [
       "<Figure size 432x288 with 1 Axes>"
      ]
     },
     "metadata": {},
     "output_type": "display_data"
    }
   ],
   "source": [
    "reduced_data = PCA(n_components=2).fit_transform(X_km_train_25)\n",
    "kmeans = KMeans(init='k-means++', n_clusters=10, n_init=10)\n",
    "kmeans.fit(reduced_data)\n",
    "\n",
    "# Step size of the mesh. Decrease to increase the quality of the VQ.\n",
    "h = .02     # point in the mesh [x_min, x_max]x[y_min, y_max].\n",
    "\n",
    "# Plot the decision boundary. For that, we will assign a color to each\n",
    "x_min, x_max = reduced_data[:, 0].min() - 1, reduced_data[:, 0].max() + 1\n",
    "y_min, y_max = reduced_data[:, 1].min() - 1, reduced_data[:, 1].max() + 1\n",
    "xx, yy = np.meshgrid(np.arange(x_min, x_max, h), np.arange(y_min, y_max, h))\n",
    "\n",
    "# Obtain labels for each point in mesh. Use last trained model.\n",
    "Z = kmeans.predict(np.c_[xx.ravel(), yy.ravel()])\n",
    "\n",
    "# Put the result into a color plot\n",
    "Z = Z.reshape(xx.shape)\n",
    "plt.figure(1)\n",
    "plt.clf()\n",
    "plt.imshow(Z, interpolation='nearest',\n",
    "           extent=(xx.min(), xx.max(), yy.min(), yy.max()),\n",
    "           cmap=plt.cm.Paired,\n",
    "           aspect='auto', origin='lower')\n",
    "\n",
    "plt.plot(reduced_data[:, 0], reduced_data[:, 1], 'k.', markersize=2)\n",
    "# Plot the centroids as a white X\n",
    "centroids = kmeans.cluster_centers_\n",
    "plt.scatter(centroids[:, 0], centroids[:, 1],\n",
    "            marker='x', s=169, linewidths=3,\n",
    "            color='w', zorder=10)\n",
    "plt.title('K-means clustering on the digits dataset (PCA-reduced data)\\n'\n",
    "          'Centroids are marked with white cross')\n",
    "plt.xlim(x_min, x_max)\n",
    "plt.ylim(y_min, y_max)\n",
    "plt.xticks(())\n",
    "plt.yticks(())\n",
    "plt.show()"
   ]
  },
  {
   "cell_type": "code",
   "execution_count": null,
   "id": "326f0b2b",
   "metadata": {},
   "outputs": [],
   "source": []
  }
 ],
 "metadata": {
  "kernelspec": {
   "display_name": "Python 3 (ipykernel)",
   "language": "python",
   "name": "python3"
  },
  "language_info": {
   "codemirror_mode": {
    "name": "ipython",
    "version": 3
   },
   "file_extension": ".py",
   "mimetype": "text/x-python",
   "name": "python",
   "nbconvert_exporter": "python",
   "pygments_lexer": "ipython3",
   "version": "3.9.7"
  }
 },
 "nbformat": 4,
 "nbformat_minor": 5
}
